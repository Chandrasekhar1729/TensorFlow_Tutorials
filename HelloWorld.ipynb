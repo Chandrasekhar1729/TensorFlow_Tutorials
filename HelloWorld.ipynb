{
  "nbformat": 4,
  "nbformat_minor": 0,
  "metadata": {
    "colab": {
      "name": "Untitled0.ipynb",
      "provenance": [],
      "authorship_tag": "ABX9TyPyxcJ+b1oICYOHVhH2IuIl",
      "include_colab_link": true
    },
    "kernelspec": {
      "name": "python3",
      "display_name": "Python 3"
    },
    "language_info": {
      "name": "python"
    }
  },
  "cells": [
    {
      "cell_type": "markdown",
      "metadata": {
        "id": "view-in-github",
        "colab_type": "text"
      },
      "source": [
        "<a href=\"https://colab.research.google.com/github/Chandrasekhar1729/TensorFlow_Tutorials/blob/main/HelloWorld.ipynb\" target=\"_parent\"><img src=\"https://colab.research.google.com/assets/colab-badge.svg\" alt=\"Open In Colab\"/></a>"
      ]
    },
    {
      "cell_type": "code",
      "metadata": {
        "id": "4cjIVGScXAKA"
      },
      "source": [
        "import tensorflow as tf"
      ],
      "execution_count": 3,
      "outputs": []
    },
    {
      "cell_type": "code",
      "metadata": {
        "id": "WAGq5s85XCv5",
        "colab": {
          "base_uri": "https://localhost:8080/"
        },
        "outputId": "70d4ba0e-6f1a-42a6-bac6-9ec7e3116d41"
      },
      "source": [
        "hello = tf.constant(\"hello world\")\n",
        "hello.numpy()"
      ],
      "execution_count": 5,
      "outputs": [
        {
          "output_type": "stream",
          "text": [
            "b'hello world'\n"
          ],
          "name": "stdout"
        }
      ]
    },
    {
      "cell_type": "code",
      "metadata": {
        "colab": {
          "base_uri": "https://localhost:8080/"
        },
        "id": "T8ma6VQhYPOL",
        "outputId": "866441c7-2677-4461-e007-b1083cf60b29"
      },
      "source": [
        "#Operations\n",
        "a = tf.constant(2.0)\n",
        "b = tf.constant(3.0)\n",
        "c = tf.constant(6.0)\n",
        "add = tf.add(a, b)\n",
        "print(add.numpy())"
      ],
      "execution_count": 19,
      "outputs": [
        {
          "output_type": "stream",
          "text": [
            "5.0\n"
          ],
          "name": "stdout"
        }
      ]
    },
    {
      "cell_type": "code",
      "metadata": {
        "id": "gVrQ6IpTbI2I",
        "outputId": "0f1ce440-1611-43a6-c8d8-c9d4e00eeb9e",
        "colab": {
          "base_uri": "https://localhost:8080/"
        }
      },
      "source": [
        "# Some operations.\n",
        "mean = tf.reduce_mean([a, b, c])\n",
        "sum = tf.reduce_sum([a, b, c])\n",
        "\n",
        "#tensors value.\n",
        "print(\"mean =\", mean.numpy())\n",
        "print(\"sum =\", sum.numpy())"
      ],
      "execution_count": 20,
      "outputs": [
        {
          "output_type": "stream",
          "text": [
            "mean = 3.6666667\n",
            "sum = 11.0\n"
          ],
          "name": "stdout"
        }
      ]
    },
    {
      "cell_type": "code",
      "metadata": {
        "id": "62UQUPv3bs7V",
        "outputId": "0d03fd32-8bab-4f42-a78d-b9db2d70f85a",
        "colab": {
          "base_uri": "https://localhost:8080/"
        }
      },
      "source": [
        "# Matrix multiplications.\n",
        "matrix1 = tf.constant([[1., 2.], [3., 4.]])\n",
        "matrix2 = tf.constant([[5., 6.], [7., 8.]])\n",
        "\n",
        "product = tf.matmul(matrix1, matrix2)\n",
        "print(product.numpy())"
      ],
      "execution_count": 23,
      "outputs": [
        {
          "output_type": "stream",
          "text": [
            "[[19. 22.]\n",
            " [43. 50.]]\n"
          ],
          "name": "stdout"
        }
      ]
    },
    {
      "cell_type": "code",
      "metadata": {
        "id": "nKDbjUAUb5Nx"
      },
      "source": [
        ""
      ],
      "execution_count": null,
      "outputs": []
    }
  ]
}